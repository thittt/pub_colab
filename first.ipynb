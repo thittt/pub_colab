{
  "nbformat": 4,
  "nbformat_minor": 0,
  "metadata": {
    "colab": {
      "name": "first.ipynb",
      "private_outputs": true,
      "provenance": [],
      "collapsed_sections": [],
      "authorship_tag": "ABX9TyP5m+z8kppk7q7yvcgNmrwR",
      "include_colab_link": true
    },
    "kernelspec": {
      "name": "python3",
      "display_name": "Python 3"
    },
    "language_info": {
      "name": "python"
    }
  },
  "cells": [
    {
      "cell_type": "markdown",
      "metadata": {
        "id": "view-in-github",
        "colab_type": "text"
      },
      "source": [
        "<a href=\"https://colab.research.google.com/github/thittt/pub_colab/blob/main/first.ipynb\" target=\"_parent\"><img src=\"https://colab.research.google.com/assets/colab-badge.svg\" alt=\"Open In Colab\"/></a>"
      ]
    },
    {
      "cell_type": "markdown",
      "metadata": {
        "id": "-gVioMORpP_C"
      },
      "source": [
        "# Intro"
      ]
    },
    {
      "cell_type": "code",
      "metadata": {
        "id": "nXJASZJti8tM"
      },
      "source": [
        "print (\"Hello, Python!\");"
      ],
      "execution_count": null,
      "outputs": []
    },
    {
      "cell_type": "markdown",
      "metadata": {
        "id": "ZBswevH3it7J"
      },
      "source": [
        "# Syntax\n"
      ]
    },
    {
      "cell_type": "code",
      "metadata": {
        "id": "ZN7HyBhVje2s"
      },
      "source": [
        "#if else\n",
        "if True:\n",
        "   print (\"True\")\n",
        "else:\n",
        "   print (\"False\")"
      ],
      "execution_count": null,
      "outputs": []
    },
    {
      "cell_type": "code",
      "metadata": {
        "id": "Ovcv-tuujtib"
      },
      "source": [
        "#try /catch\n",
        "import sys\n",
        "\n",
        "try:\n",
        "   # open file stream\n",
        "   file = open(\"file_name\", \"w\")\n",
        "except IOError:\n",
        "   print (\"There was an error writing to {}\", file_name)\n",
        "   sys.exit()\n",
        "print (\"finished\")\n"
      ],
      "execution_count": null,
      "outputs": []
    },
    {
      "cell_type": "code",
      "metadata": {
        "id": "jXkQuRGylNvN"
      },
      "source": [
        "#accept input and format \n",
        "name = input (\"Enter your name :\") \n",
        "print('hello, %s'%name)"
      ],
      "execution_count": null,
      "outputs": []
    },
    {
      "cell_type": "code",
      "metadata": {
        "id": "MjBRY6Kfl1JS"
      },
      "source": [
        "# The format() function can do simple positional formatting\n",
        "name = input (\"Enter your name :\") \n",
        "print('Hello, {}'.format(name))\n",
        "print('By the way {0}, you are {1} age.'.format(name, 23))"
      ],
      "execution_count": null,
      "outputs": []
    },
    {
      "cell_type": "code",
      "metadata": {
        "id": "7n-WghiTor2f"
      },
      "source": [
        "tuple = ( 'abcd', 786 , 2.23, 'john', 70.2  )\n",
        "list = [ 'abcd', 786 , 2.23, 'john', 70.2  ]\n",
        "list[2] = 1000     # Valid syntax with list\n",
        "#tuple[2] = 1000    # Invalid syntax with tuple\n",
        "print (list[2])\n"
      ],
      "execution_count": null,
      "outputs": []
    },
    {
      "cell_type": "code",
      "metadata": {
        "id": "Sdfi3APVqV5n"
      },
      "source": [
        "fruits = ['banana', 'apple',  'mango']\n",
        "for fruit in fruits:       \n",
        "   print (fruit)"
      ],
      "execution_count": null,
      "outputs": []
    },
    {
      "cell_type": "code",
      "metadata": {
        "id": "4OcAztiXqzGh"
      },
      "source": [
        "import sys\n",
        "# Open a file\n",
        "try:\n",
        "    fo = open(\"foo.txt\", \"w\")\n",
        "    fo.writelines('line 1 \\n')\n",
        "    fo.writelines('line 2 \\n')\n",
        "    print ('write done')\n",
        "    fo = open(\"foo.txt\", \"r\")\n",
        "    str = fo.readline()\n",
        "    print (str)\n",
        "except Exception:\n",
        "  print ('error load file')\n",
        "  sys.exit(0)\n",
        "\n",
        "finally:\n",
        "  # Close opend file\n",
        "  fo.close()"
      ],
      "execution_count": null,
      "outputs": []
    }
  ]
}